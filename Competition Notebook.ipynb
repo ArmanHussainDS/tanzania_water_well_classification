{
 "cells": [
  {
   "cell_type": "markdown",
   "metadata": {
    "ExecuteTime": {
     "end_time": "2020-04-13T12:19:28.095042Z",
     "start_time": "2020-04-13T12:19:28.092524Z"
    }
   },
   "source": [
    "## **Tanzanian Water Well Competition** \n",
    "**Building a classifier to predict the condition of water wells**"
   ]
  },
  {
   "cell_type": "markdown",
   "metadata": {},
   "source": [
    "### ***Importing Data***"
   ]
  },
  {
   "cell_type": "code",
   "execution_count": 7,
   "metadata": {
    "ExecuteTime": {
     "end_time": "2020-04-13T12:28:41.013525Z",
     "start_time": "2020-04-13T12:28:41.010225Z"
    }
   },
   "outputs": [],
   "source": [
    "import pandas as pd"
   ]
  },
  {
   "cell_type": "code",
   "execution_count": 8,
   "metadata": {
    "ExecuteTime": {
     "end_time": "2020-04-13T12:28:41.852345Z",
     "start_time": "2020-04-13T12:28:41.276763Z"
    }
   },
   "outputs": [],
   "source": [
    "# Converting csv to pandas data-frames\n",
    "feature_data = pd.read_csv('./Raw_data/TrainingSetValues.csv')\n",
    "labels = pd.read_csv('./Raw_data/TrainingSetLabels.csv')\n",
    "X_test = pd.read_csv('./Raw_Data/TestSetValues.csv')"
   ]
  },
  {
   "cell_type": "code",
   "execution_count": 13,
   "metadata": {
    "ExecuteTime": {
     "end_time": "2020-04-13T12:29:41.194324Z",
     "start_time": "2020-04-13T12:29:41.190030Z"
    }
   },
   "outputs": [
    {
     "name": "stdout",
     "output_type": "stream",
     "text": [
      "(59400, 40)\n",
      "(59400, 2)\n"
     ]
    }
   ],
   "source": [
    "# Confirming length of labels and features are equal\n",
    "print(feature_data.shape)\n",
    "print(labels.shape)"
   ]
  },
  {
   "cell_type": "code",
   "execution_count": 18,
   "metadata": {
    "ExecuteTime": {
     "end_time": "2020-04-13T12:34:48.455983Z",
     "start_time": "2020-04-13T12:34:48.310690Z"
    }
   },
   "outputs": [],
   "source": [
    "# Merging status_group labels with features\n",
    "df = feature_data.merge(labels, on = feature_data.index)"
   ]
  },
  {
   "cell_type": "code",
   "execution_count": 30,
   "metadata": {
    "ExecuteTime": {
     "end_time": "2020-04-13T13:06:48.353745Z",
     "start_time": "2020-04-13T13:06:48.346399Z"
    }
   },
   "outputs": [
    {
     "data": {
      "text/plain": [
       "0                      spring\n",
       "1        rainwater harvesting\n",
       "2                         dam\n",
       "3                 machine dbh\n",
       "4        rainwater harvesting\n",
       "                 ...         \n",
       "59395                  spring\n",
       "59396                   river\n",
       "59397             machine dbh\n",
       "59398            shallow well\n",
       "59399            shallow well\n",
       "Name: source, Length: 59400, dtype: object"
      ]
     },
     "execution_count": 30,
     "metadata": {},
     "output_type": "execute_result"
    }
   ],
   "source": [
    "df['source']"
   ]
  },
  {
   "cell_type": "code",
   "execution_count": null,
   "metadata": {},
   "outputs": [],
   "source": []
  }
 ],
 "metadata": {
  "kernelspec": {
   "display_name": "Python 3",
   "language": "python",
   "name": "python3"
  },
  "language_info": {
   "codemirror_mode": {
    "name": "ipython",
    "version": 3
   },
   "file_extension": ".py",
   "mimetype": "text/x-python",
   "name": "python",
   "nbconvert_exporter": "python",
   "pygments_lexer": "ipython3",
   "version": "3.6.9"
  },
  "toc": {
   "base_numbering": 1,
   "nav_menu": {},
   "number_sections": true,
   "sideBar": true,
   "skip_h1_title": false,
   "title_cell": "Table of Contents",
   "title_sidebar": "Contents",
   "toc_cell": false,
   "toc_position": {},
   "toc_section_display": true,
   "toc_window_display": false
  }
 },
 "nbformat": 4,
 "nbformat_minor": 2
}
